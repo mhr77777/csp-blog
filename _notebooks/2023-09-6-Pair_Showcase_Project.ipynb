{
 "cells": [
  {
   "cell_type": "markdown",
   "metadata": {},
   "source": [
    "---\n",
    "comments: true\n",
    "layout: post\n",
    "title: Pair Showcase Project\n",
    "description: \n",
    "type: hack\n",
    "courses: { csp: {week: 4} }\n",
    "categories: [C9.5]\n",
    "---"
   ]
  },
  {
   "cell_type": "markdown",
   "metadata": {},
   "source": [
    "# Introduction\n",
    "\n",
    "This page is a converted jupyter notebook of my and my partner's pair showcase project, which while being the fruit of a collaborative effort, is differing in some ways for each of us.\n",
    "\n",
    "## Markdown Table with some data"
   ]
  },
  {
   "cell_type": "markdown",
   "metadata": {},
   "source": [
    "| Name  | Slot  | Ammo Type | Raid Viable? | \n",
    "|-------|-------|-------|-------|\n",
    "| Trinity Ghoul | Primary | Primary | [x] |\n",
    "| Lord of Wolves | Energy | Special | [ ] |\n",
    "| Xenophage | Heavy | Heavy | [x] |\n"
   ]
  },
  {
   "cell_type": "markdown",
   "metadata": {},
   "source": [
    "## Basic Web Scraping\n",
    "\n",
    "My partner and I have used variants of the following code to scrape the first paragraph of wikipedia pages. SHe chose the page for \"book\", and I chose the page for \"Destiny\", the video game series. This code uses `requests` and `lxml` to extract the paragraph using an xpath we obtained using inspect element."
   ]
  },
  {
   "cell_type": "code",
   "execution_count": 9,
   "metadata": {},
   "outputs": [
    {
     "name": "stdout",
     "output_type": "stream",
     "text": [
      "Destiny is an online-only multiplayer first-person shooter video game series developed by Bungie and previously published by Activision. The series is now self-published by Bungie after separating from Activision in 2019.[1] Destiny marked Bungie's first new console franchise since the Halo series. Set in a \"mythic science fiction\" world, the series features a multiplayer \"shared-world\" environment with elements of role-playing games. Activities are divided among player versus environment (PvE) and player versus player (PvP) game types. In addition to normal story missions, PvE features three-player \"strikes\" and dungeons and six-player raids. A free roam patrol mode is also available for each destination which feature public events. PvP features objective-based modes, as well as traditional deathmatch game modes.\n",
      "\n"
     ]
    }
   ],
   "source": [
    "import requests\n",
    "from lxml import html\n",
    "\n",
    "r = requests.get(\"https://en.wikipedia.org/wiki/Destiny_(video_game_series)\")\n",
    "#print(r.text)\n",
    "\n",
    "p1_xpath = \"/html/body/div[2]/div/div[3]/main/div[3]/div[3]/div[1]/p[1]\"\n",
    "\n",
    "if r.status_code == 200:\n",
    "    tree = html.fromstring(r.text)\n",
    "    p1x = tree.xpath(p1_xpath)\n",
    "    for p1 in p1x:\n",
    "        print(p1.text_content())\n",
    "else:\n",
    "    print(\"Error\")"
   ]
  },
  {
   "cell_type": "markdown",
   "metadata": {},
   "source": [
    "## Shell script that returns a random number"
   ]
  },
  {
   "cell_type": "code",
   "execution_count": 86,
   "metadata": {},
   "outputs": [
    {
     "name": "stdout",
     "output_type": "stream",
     "text": [
      "  -60\n"
     ]
    },
    {
     "ename": "",
     "evalue": "",
     "output_type": "error",
     "traceback": [
      "\u001b[1;31mThe Kernel crashed while executing code in the the current cell or a previous cell. Please review the code in the cell(s) to identify a possible cause of the failure. Click <a href='https://aka.ms/vscodeJupyterKernelCrash'>here</a> for more info. View Jupyter <a href='command:jupyter.viewOutput'>log</a> for further details."
     ]
    }
   ],
   "source": [
    "import os\n",
    "\n",
    "\n",
    "#Pretend I'm not executing this with python, VS Code wouldn't run my shell scripts. It works outside of vs code tho.\n",
    "os.system(\"\"\"\n",
    "          \n",
    "#!/bin/bash\n",
    "od -An -td1 -N1 /dev/urandom\n",
    "          \n",
    "\"\"\")\n",
    "          \n",
    "exit(0)"
   ]
  }
 ],
 "metadata": {
  "kernelspec": {
   "display_name": "Python 3",
   "language": "python",
   "name": "python3"
  },
  "language_info": {
   "codemirror_mode": {
    "name": "ipython",
    "version": 3
   },
   "file_extension": ".py",
   "mimetype": "text/x-python",
   "name": "python",
   "nbconvert_exporter": "python",
   "pygments_lexer": "ipython3",
   "version": "3.11.5"
  },
  "orig_nbformat": 4
 },
 "nbformat": 4,
 "nbformat_minor": 2
}
