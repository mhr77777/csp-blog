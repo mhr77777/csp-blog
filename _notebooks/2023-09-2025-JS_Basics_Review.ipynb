{
 "cells": [
  {
   "cell_type": "markdown",
   "metadata": {},
   "source": [
    "---\n",
    "comments: true\n",
    "layout: post\n",
    "title: JS Basics Test\n",
    "description: My basics test notebook\n",
    "type: hacks\n",
    "courses: { csse: {week: 0}, csp: {week: 7}, csa: {week: 0} }\n",
    "categories: [C4.2]\n",
    "---"
   ]
  },
  {
   "cell_type": "markdown",
   "metadata": {},
   "source": [
    "# Hack 1"
   ]
  },
  {
   "cell_type": "code",
   "execution_count": 9,
   "metadata": {
    "vscode": {
     "languageId": "html"
    }
   },
   "outputs": [
    {
     "data": {
      "text/html": [
       "\n",
       "<div id=\"1\">\n",
       "    <p id=\"1a\">Ball</p>\n",
       "    <button>This is a button.</button>\n",
       "</div>\n",
       "<div>\n",
       "    <a href=\"https://encrypted-tbn0.gstatic.com/images?q=tbn:ANd9GcRXoi2NOqxlu5SBr5tLwKN5zIQ8THtG-OnGUnZBPjp8\">Link 1</a>\n",
       "    <a href=\"https://i1.sndcdn.com/artworks-kVhTa64zQyO5P8Tc-dR3Uxg-t500x500.jpg\">Link 2</a>\n",
       "    <p>Court</p>\n",
       "</div>\n"
      ],
      "text/plain": [
       "<IPython.core.display.HTML object>"
      ]
     },
     "metadata": {},
     "output_type": "display_data"
    }
   ],
   "source": [
    "%%html\n",
    "\n",
    "<div id=\"1\">\n",
    "    <p id=\"1a\">Ball</p>\n",
    "    <button>This is a button.</button>\n",
    "</div>\n",
    "<div>\n",
    "    <a href=\"https://encrypted-tbn0.gstatic.com/images?q=tbn:ANd9GcRXoi2NOqxlu5SBr5tLwKN5zIQ8THtG-OnGUnZBPjp8\">Link 1</a>\n",
    "    <a href=\"https://i1.sndcdn.com/artworks-kVhTa64zQyO5P8Tc-dR3Uxg-t500x500.jpg\">Link 2</a>\n",
    "    <p>Court</p>\n",
    "</div>"
   ]
  },
  {
   "cell_type": "markdown",
   "metadata": {},
   "source": [
    "# Hack 2"
   ]
  },
  {
   "cell_type": "code",
   "execution_count": 1,
   "metadata": {},
   "outputs": [
    {
     "data": {
      "application/javascript": "\nvar me = {\n    name: \"monika\",\n    age: 16,\n    classes: [\"Chinese 1\",\"Integrated Math 3a\",\"AP Human Geography\",\"AP Computer Science Principles\",\"American Literature 1\"],\n    interests: [\"Computer Science\",\"Destiny 2\",\"Minecraft\"],\n    gender: \"female\",\n    favorite_linux: \"Arch + KDE Plasma\"\n}\n\nconsole.log(me)\n\nme[\"interests\"] += \"Geometry Dash\"\nconsole.log(me)\nconsole.log(me[\"interests\"])\n\nconsole.log(\"My age next year: \"+(me[\"age\"]+1))\n\nconsole.log(typeof me[\"age\"])\nconsole.log(typeof me[\"name\"])\nconsole.log(typeof me[\"gender\"])\n",
      "text/plain": [
       "<IPython.core.display.Javascript object>"
      ]
     },
     "metadata": {},
     "output_type": "display_data"
    }
   ],
   "source": [
    "%%js\n",
    "\n",
    "var me = {\n",
    "    name: \"monika\",\n",
    "    age: 16,\n",
    "    classes: [\"Chinese 1\",\"Integrated Math 3a\",\"AP Human Geography\",\"AP Computer Science Principles\",\"American Literature 1\"],\n",
    "    interests: [\"Computer Science\",\"Destiny 2\",\"Minecraft\"],\n",
    "    gender: \"female\",\n",
    "    favorite_linux: \"Arch + KDE Plasma\"\n",
    "}\n",
    "\n",
    "console.log(me)\n",
    "\n",
    "me[\"interests\"] += \"Geometry Dash\"\n",
    "console.log(me)\n",
    "console.log(me[\"interests\"])\n",
    "\n",
    "console.log(\"My age next year: \"+(me[\"age\"]+1))\n",
    "\n",
    "console.log(typeof me[\"age\"])\n",
    "console.log(typeof me[\"name\"])\n",
    "console.log(typeof me[\"gender\"])"
   ]
  },
  {
   "cell_type": "markdown",
   "metadata": {},
   "source": [
    "# Hack 3"
   ]
  },
  {
   "cell_type": "code",
   "execution_count": 8,
   "metadata": {},
   "outputs": [
    {
     "data": {
      "text/html": [
       "\n",
       "<div id=\"1\">\n",
       "    <p id=\"1a\">Ball</p>\n",
       "    <button id=\"btn\">This is a button.</button>\n",
       "</div>\n",
       "<div>\n",
       "    <a href=\"https://encrypted-tbn0.gstatic.com/images?q=tbn:ANd9GcRXoi2NOqxlu5SBr5tLwKN5zIQ8THtG-OnGUnZBPjp8\">Link 1</a>\n",
       "    <a href=\"https://i1.sndcdn.com/artworks-kVhTa64zQyO5P8Tc-dR3Uxg-t500x500.jpg\">Link 2</a>\n",
       "    <p>Court</p>\n",
       "</div>\n",
       "\n",
       "\n",
       "<script>\n",
       "    document.getElementById(\"btn\").addEventListener(\"click\", function() {\n",
       "        var links = document.getElementsByTagName(\"a\");\n",
       "        for (let i = 0; i < links.length; i++) {\n",
       "          links[i].href = \"https://encrypted-tbn0.gstatic.com/images?q=tbn:ANd9GcTaJsbTOZ4uMU5kuTeOXcYXq3nHn6FPdgaRAA&usqp=CAU\";\n",
       "        } \n",
       "        document.getElementById(\"1a\").innerHTML = \"Switched!\";\n",
       "    });\n",
       "</script>\n"
      ],
      "text/plain": [
       "<IPython.core.display.HTML object>"
      ]
     },
     "metadata": {},
     "output_type": "display_data"
    }
   ],
   "source": [
    "%%html\n",
    "\n",
    "<div id=\"1\">\n",
    "    <p id=\"1a\">Ball</p>\n",
    "    <button id=\"btn\">This is a button.</button>\n",
    "</div>\n",
    "<div>\n",
    "    <a href=\"https://encrypted-tbn0.gstatic.com/images?q=tbn:ANd9GcRXoi2NOqxlu5SBr5tLwKN5zIQ8THtG-OnGUnZBPjp8\">Link 1</a>\n",
    "    <a href=\"https://i1.sndcdn.com/artworks-kVhTa64zQyO5P8Tc-dR3Uxg-t500x500.jpg\">Link 2</a>\n",
    "    <p>Court</p>\n",
    "</div>\n",
    "\n",
    "\n",
    "<script>\n",
    "    document.getElementById(\"btn\").addEventListener(\"click\", function() {\n",
    "        var links = document.getElementsByTagName(\"a\");\n",
    "        for (let i = 0; i < links.length; i++) {\n",
    "          links[i].href = \"https://encrypted-tbn0.gstatic.com/images?q=tbn:ANd9GcTaJsbTOZ4uMU5kuTeOXcYXq3nHn6FPdgaRAA&usqp=CAU\";\n",
    "        } \n",
    "        document.getElementById(\"1a\").innerHTML = \"Switched!\";\n",
    "    });\n",
    "</script>\n"
   ]
  },
  {
   "cell_type": "markdown",
   "metadata": {},
   "source": [
    "# Hack 4"
   ]
  },
  {
   "cell_type": "code",
   "execution_count": null,
   "metadata": {},
   "outputs": [],
   "source": [
    "%%js\n",
    "var a = 19\n",
    "var b = 24\n",
    "\n",
    "if (a > b) {\n",
    "    console.log(\"a is more than b\")\n",
    "} else if (a = b) {\n",
    "    console.log(\"a is the same as b\")\n",
    "} else  {\n",
    "    console.log(\"a is less than b\")\n",
    "}\n"
   ]
  },
  {
   "cell_type": "markdown",
   "metadata": {},
   "source": [
    "# Hack 5"
   ]
  },
  {
   "cell_type": "code",
   "execution_count": 2,
   "metadata": {},
   "outputs": [
    {
     "data": {
      "application/javascript": "\nvar alphabet = \"abcdefghijklmnopqrstuvwxyz\";\nvar alphabetList = [];\n\nalphabetList = alphabet.split()\n\nfor (var i = 0; i < 25; i++) {\n\talphabetList.push(i);\n}\n\nconsole.log(alphabetList);\n",
      "text/plain": [
       "<IPython.core.display.Javascript object>"
      ]
     },
     "metadata": {},
     "output_type": "display_data"
    }
   ],
   "source": [
    "%%js\n",
    "\n",
    "var alphabet = \"abcdefghijklmnopqrstuvwxyz\";\n",
    "var alphabetList = [];\n",
    "\n",
    "alphabetList = alphabet.split()\n",
    "\n",
    "for (var i = 0; i < 25; i++) {\n",
    "\talphabetList.push(i);\n",
    "}\n",
    "\n",
    "console.log(alphabetList);\n",
    "\n"
   ]
  },
  {
   "cell_type": "code",
   "execution_count": null,
   "metadata": {},
   "outputs": [],
   "source": [
    "%%html\n",
    "\n",
    "<script src=\"https://utteranc.es/client.js\"\n",
    "        repo=\"mhr77777/csp-blog\"\n",
    "        issue-term=\"pathname\"\n",
    "        theme=\"github-dark\"\n",
    "        crossorigin=\"anonymous\"\n",
    "        async>\n",
    "</script>"
   ]
  }
 ],
 "metadata": {
  "kernelspec": {
   "display_name": "Python 3 (ipykernel)",
   "language": "python",
   "name": "python3"
  },
  "language_info": {
   "codemirror_mode": {
    "name": "ipython",
    "version": 3
   },
   "file_extension": ".py",
   "mimetype": "text/x-python",
   "name": "python",
   "nbconvert_exporter": "python",
   "pygments_lexer": "ipython3",
   "version": "3.11.5"
  }
 },
 "nbformat": 4,
 "nbformat_minor": 4
}
