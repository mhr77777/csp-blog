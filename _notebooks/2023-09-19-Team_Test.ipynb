{
 "cells": [
  {
   "cell_type": "markdown",
   "metadata": {},
   "source": [
    "---\n",
    "comments: true\n",
    "layout: post\n",
    "title: Team Test\n",
    "description: The full writeup for the team test\n",
    "type: hacks\n",
    "courses: { csse: {week: 0}, csp: {week: 6}, csa: {week: 0} }\n",
    "categories: [C4.2]\n",
    "---"
   ]
  },
  {
   "cell_type": "markdown",
   "metadata": {},
   "source": []
  }
 ],
 "metadata": {
  "language_info": {
   "name": "python"
  },
  "orig_nbformat": 4
 },
 "nbformat": 4,
 "nbformat_minor": 2
}
