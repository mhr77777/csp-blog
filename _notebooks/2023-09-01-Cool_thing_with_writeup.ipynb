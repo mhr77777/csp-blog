{
 "cells": [
  {
   "cell_type": "markdown",
   "metadata": {},
   "source": [
    "# Custom encryption in Python\n",
    "\n",
    "> TL;DR: I created my own cipher, here's some cells that use it"
   ]
  },
  {
   "cell_type": "markdown",
   "metadata": {},
   "source": [
    "## Explanation\n",
    "\n",
    "The cipher itself is very simple: it reads each byte of the input as a binary array, and then flips each bit a set amount of times based on the seed, and then it will randomly invert some bytes based on the seed."
   ]
  },
  {
   "cell_type": "markdown",
   "metadata": {},
   "source": [
    "## Basic Implementation"
   ]
  },
  {
   "cell_type": "code",
   "execution_count": 17,
   "metadata": {},
   "outputs": [
    {
     "name": "stdout",
     "output_type": "stream",
     "text": [
      "¹Țî ȚɾʈˬøȤĂ øŒ ØΪΪ ȚɾˬȚîȤˬø îɾʈˬɾƶ ʈøìɾîˬĂ ɾʈ ˬȚî ȚɾʈˬøȤĂ øŒ ìΪØʈʈ ʈˬȤ͐ƶƶΪîʈÉ ¿ ÂØȤΪ ÖØȤ\n",
      "The history of all hitherto e\fisti\u000bg society is the history of class struggles. - Karl Mar\f\n"
     ]
    }
   ],
   "source": [
    "# Basic Implementation\n",
    "\n",
    "import random\n",
    "\n",
    "seed = 1\n",
    "testphrase = \"The history of all hitherto existing society is the history of class struggles. - Karl Marx\"\n",
    "\n",
    "def encrypt(seed, input):\n",
    "    b_array = []\n",
    "    h_array = []\n",
    "    for i in input:\n",
    "        bt = ord(i)\n",
    "        b_array.append(bt)\n",
    "    for i in b_array:\n",
    "        random.seed(seed)\n",
    "        mod_int = int( str(i)[::-1] )\n",
    "        mod_int += random.randrange(0,999)\n",
    "        h_array.append(mod_int)\n",
    "        output = ''.join(chr(i) for i in h_array)\n",
    "    return output\n",
    "\n",
    "es = encrypt(seed, testphrase)\n",
    "\n",
    "print(es)\n",
    "\n",
    "def decrypt(seed, output):\n",
    "    h_array = []\n",
    "    for i in output:\n",
    "        bt = ord(i)\n",
    "        h_array.append(bt)\n",
    "    b_array = []\n",
    "    for i in h_array:\n",
    "        random.seed(seed)\n",
    "        mod_int = i - random.randrange(0, 999)\n",
    "        mod_int = int(str(mod_int)[::-1])\n",
    "        b_array.append(mod_int)\n",
    "    decrypted = ''.join(chr(i) for i in b_array)\n",
    "    return decrypted\n",
    "\n",
    "#This *mostly* works, it still needs improvement\n",
    "print(decrypt(seed,es))\n",
    "\n",
    "\n"
   ]
  },
  {
   "cell_type": "code",
   "execution_count": null,
   "metadata": {},
   "outputs": [],
   "source": []
  }
 ],
 "metadata": {
  "kernelspec": {
   "display_name": "Python 3",
   "language": "python",
   "name": "python3"
  },
  "language_info": {
   "codemirror_mode": {
    "name": "ipython",
    "version": 3
   },
   "file_extension": ".py",
   "mimetype": "text/x-python",
   "name": "python",
   "nbconvert_exporter": "python",
   "pygments_lexer": "ipython3",
   "version": "3.11.5"
  },
  "orig_nbformat": 4
 },
 "nbformat": 4,
 "nbformat_minor": 2
}
